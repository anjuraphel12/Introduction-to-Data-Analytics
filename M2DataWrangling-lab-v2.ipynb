{
 "cells": [
  {
   "cell_type": "markdown",
   "metadata": {},
   "source": [
    "<p style=\"text-align:center\">\n",
    "    <a href=\"https://skills.network\" target=\"_blank\">\n",
    "    <img src=\"https://cf-courses-data.s3.us.cloud-object-storage.appdomain.cloud/assets/logos/SN_web_lightmode.png\" width=\"200\" alt=\"Skills Network Logo\"  />\n",
    "    </a>\n",
    "</p>\n"
   ]
  },
  {
   "cell_type": "markdown",
   "metadata": {},
   "source": [
    "# **Data Wrangling Lab**\n"
   ]
  },
  {
   "cell_type": "markdown",
   "metadata": {},
   "source": [
    "Estimated time needed: **45** minutes\n"
   ]
  },
  {
   "cell_type": "markdown",
   "metadata": {},
   "source": [
    "In this lab, you will perform data wrangling tasks to prepare raw data for analysis. Data wrangling involves cleaning, transforming, and organizing data into a structured format suitable for analysis. This lab focuses on tasks like identifying inconsistencies, encoding categorical variables, and feature transformation.\n"
   ]
  },
  {
   "cell_type": "markdown",
   "metadata": {},
   "source": [
    "## Objectives\n"
   ]
  },
  {
   "cell_type": "markdown",
   "metadata": {},
   "source": [
    "After completing this lab, you will be able to:\n"
   ]
  },
  {
   "cell_type": "markdown",
   "metadata": {},
   "source": [
    "- Identify and remove inconsistent data entries.\n",
    "\n",
    "- Encode categorical variables for analysis.\n",
    "\n",
    "- Handle missing values using multiple imputation strategies.\n",
    "\n",
    "- Apply feature scaling and transformation techniques.\n"
   ]
  },
  {
   "cell_type": "markdown",
   "metadata": {},
   "source": [
    "#### Intsall the required libraries\n"
   ]
  },
  {
   "cell_type": "code",
   "execution_count": 1,
   "metadata": {},
   "outputs": [
    {
     "name": "stdout",
     "output_type": "stream",
     "text": [
      "Requirement already satisfied: pandas in /opt/conda/lib/python3.12/site-packages (2.2.3)\n",
      "Requirement already satisfied: numpy>=1.26.0 in /opt/conda/lib/python3.12/site-packages (from pandas) (2.2.3)\n",
      "Requirement already satisfied: python-dateutil>=2.8.2 in /opt/conda/lib/python3.12/site-packages (from pandas) (2.9.0.post0)\n",
      "Requirement already satisfied: pytz>=2020.1 in /opt/conda/lib/python3.12/site-packages (from pandas) (2024.2)\n",
      "Requirement already satisfied: tzdata>=2022.7 in /opt/conda/lib/python3.12/site-packages (from pandas) (2025.1)\n",
      "Requirement already satisfied: six>=1.5 in /opt/conda/lib/python3.12/site-packages (from python-dateutil>=2.8.2->pandas) (1.17.0)\n",
      "Requirement already satisfied: matplotlib in /opt/conda/lib/python3.12/site-packages (3.10.0)\n",
      "Requirement already satisfied: contourpy>=1.0.1 in /opt/conda/lib/python3.12/site-packages (from matplotlib) (1.3.1)\n",
      "Requirement already satisfied: cycler>=0.10 in /opt/conda/lib/python3.12/site-packages (from matplotlib) (0.12.1)\n",
      "Requirement already satisfied: fonttools>=4.22.0 in /opt/conda/lib/python3.12/site-packages (from matplotlib) (4.56.0)\n",
      "Requirement already satisfied: kiwisolver>=1.3.1 in /opt/conda/lib/python3.12/site-packages (from matplotlib) (1.4.8)\n",
      "Requirement already satisfied: numpy>=1.23 in /opt/conda/lib/python3.12/site-packages (from matplotlib) (2.2.3)\n",
      "Requirement already satisfied: packaging>=20.0 in /opt/conda/lib/python3.12/site-packages (from matplotlib) (24.2)\n",
      "Requirement already satisfied: pillow>=8 in /opt/conda/lib/python3.12/site-packages (from matplotlib) (11.1.0)\n",
      "Requirement already satisfied: pyparsing>=2.3.1 in /opt/conda/lib/python3.12/site-packages (from matplotlib) (3.2.1)\n",
      "Requirement already satisfied: python-dateutil>=2.7 in /opt/conda/lib/python3.12/site-packages (from matplotlib) (2.9.0.post0)\n",
      "Requirement already satisfied: six>=1.5 in /opt/conda/lib/python3.12/site-packages (from python-dateutil>=2.7->matplotlib) (1.17.0)\n"
     ]
    }
   ],
   "source": [
    "!pip install pandas\n",
    "!pip install matplotlib"
   ]
  },
  {
   "cell_type": "markdown",
   "metadata": {},
   "source": [
    "## Tasks\n"
   ]
  },
  {
   "cell_type": "markdown",
   "metadata": {},
   "source": [
    "#### Step 1: Import the necessary module.\n"
   ]
  },
  {
   "cell_type": "markdown",
   "metadata": {},
   "source": [
    "### 1. Load the Dataset\n"
   ]
  },
  {
   "cell_type": "markdown",
   "metadata": {},
   "source": [
    "<h5>1.1 Import necessary libraries and load the dataset.</h5>\n"
   ]
  },
  {
   "cell_type": "markdown",
   "metadata": {},
   "source": [
    "Ensure the dataset is loaded correctly by displaying the first few rows.\n"
   ]
  },
  {
   "cell_type": "code",
   "execution_count": 2,
   "metadata": {},
   "outputs": [
    {
     "name": "stdout",
     "output_type": "stream",
     "text": [
      "   ResponseId                      MainBranch                 Age  \\\n",
      "0           1  I am a developer by profession  Under 18 years old   \n",
      "1           2  I am a developer by profession     35-44 years old   \n",
      "2           3  I am a developer by profession     45-54 years old   \n",
      "3           4           I am learning to code     18-24 years old   \n",
      "4           5  I am a developer by profession     18-24 years old   \n",
      "\n",
      "            Employment RemoteWork   Check  \\\n",
      "0  Employed, full-time     Remote  Apples   \n",
      "1  Employed, full-time     Remote  Apples   \n",
      "2  Employed, full-time     Remote  Apples   \n",
      "3   Student, full-time        NaN  Apples   \n",
      "4   Student, full-time        NaN  Apples   \n",
      "\n",
      "                                    CodingActivities  \\\n",
      "0                                              Hobby   \n",
      "1  Hobby;Contribute to open-source projects;Other...   \n",
      "2  Hobby;Contribute to open-source projects;Other...   \n",
      "3                                                NaN   \n",
      "4                                                NaN   \n",
      "\n",
      "                                             EdLevel  \\\n",
      "0                          Primary/elementary school   \n",
      "1       Bachelor’s degree (B.A., B.S., B.Eng., etc.)   \n",
      "2    Master’s degree (M.A., M.S., M.Eng., MBA, etc.)   \n",
      "3  Some college/university study without earning ...   \n",
      "4  Secondary school (e.g. American high school, G...   \n",
      "\n",
      "                                           LearnCode  \\\n",
      "0                             Books / Physical media   \n",
      "1  Books / Physical media;Colleague;On the job tr...   \n",
      "2  Books / Physical media;Colleague;On the job tr...   \n",
      "3  Other online resources (e.g., videos, blogs, f...   \n",
      "4  Other online resources (e.g., videos, blogs, f...   \n",
      "\n",
      "                                     LearnCodeOnline  ... JobSatPoints_6  \\\n",
      "0                                                NaN  ...            NaN   \n",
      "1  Technical documentation;Blogs;Books;Written Tu...  ...            0.0   \n",
      "2  Technical documentation;Blogs;Books;Written Tu...  ...            NaN   \n",
      "3  Stack Overflow;How-to videos;Interactive tutorial  ...            NaN   \n",
      "4  Technical documentation;Blogs;Written Tutorial...  ...            NaN   \n",
      "\n",
      "  JobSatPoints_7 JobSatPoints_8 JobSatPoints_9 JobSatPoints_10  \\\n",
      "0            NaN            NaN            NaN             NaN   \n",
      "1            0.0            0.0            0.0             0.0   \n",
      "2            NaN            NaN            NaN             NaN   \n",
      "3            NaN            NaN            NaN             NaN   \n",
      "4            NaN            NaN            NaN             NaN   \n",
      "\n",
      "  JobSatPoints_11           SurveyLength SurveyEase ConvertedCompYearly JobSat  \n",
      "0             NaN                    NaN        NaN                 NaN    NaN  \n",
      "1             0.0                    NaN        NaN                 NaN    NaN  \n",
      "2             NaN  Appropriate in length       Easy                 NaN    NaN  \n",
      "3             NaN               Too long       Easy                 NaN    NaN  \n",
      "4             NaN              Too short       Easy                 NaN    NaN  \n",
      "\n",
      "[5 rows x 114 columns]\n"
     ]
    }
   ],
   "source": [
    "# Import necessary libraries\n",
    "import pandas as pd\n",
    "\n",
    "# Load the Stack Overflow survey data\n",
    "dataset_url = \"https://cf-courses-data.s3.us.cloud-object-storage.appdomain.cloud/n01PQ9pSmiRX6520flujwQ/survey-data.csv\"\n",
    "df = pd.read_csv(dataset_url)\n",
    "\n",
    "# Display the first few rows\n",
    "print(df.head())\n"
   ]
  },
  {
   "cell_type": "markdown",
   "metadata": {},
   "source": [
    "#### 2. Explore the Dataset\n"
   ]
  },
  {
   "cell_type": "markdown",
   "metadata": {},
   "source": [
    "<h5>2.1 Summarize the dataset by displaying the column data types, counts, and missing values.</h5>\n"
   ]
  },
  {
   "cell_type": "code",
   "execution_count": 3,
   "metadata": {},
   "outputs": [
    {
     "name": "stdout",
     "output_type": "stream",
     "text": [
      "Column Data Types:\n",
      "ResponseId               int64\n",
      "MainBranch              object\n",
      "Age                     object\n",
      "Employment              object\n",
      "RemoteWork              object\n",
      "                        ...   \n",
      "JobSatPoints_11        float64\n",
      "SurveyLength            object\n",
      "SurveyEase              object\n",
      "ConvertedCompYearly    float64\n",
      "JobSat                 float64\n",
      "Length: 114, dtype: object\n",
      "\n",
      "Count of non-missing values in each column:\n",
      "ResponseId             65437\n",
      "MainBranch             65437\n",
      "Age                    65437\n",
      "Employment             65437\n",
      "RemoteWork             54806\n",
      "                       ...  \n",
      "JobSatPoints_11        29445\n",
      "SurveyLength           56182\n",
      "SurveyEase             56238\n",
      "ConvertedCompYearly    23435\n",
      "JobSat                 29126\n",
      "Length: 114, dtype: int64\n",
      "\n",
      "Missing values in each column:\n",
      "ResponseId                 0\n",
      "MainBranch                 0\n",
      "Age                        0\n",
      "Employment                 0\n",
      "RemoteWork             10631\n",
      "                       ...  \n",
      "JobSatPoints_11        35992\n",
      "SurveyLength            9255\n",
      "SurveyEase              9199\n",
      "ConvertedCompYearly    42002\n",
      "JobSat                 36311\n",
      "Length: 114, dtype: int64\n"
     ]
    }
   ],
   "source": [
    "# Write your code here\n",
    "# Display the column data types\n",
    "print(\"Column Data Types:\")\n",
    "print(df.dtypes)\n",
    "\n",
    "# Display the count of non-missing values in each column\n",
    "print(\"\\nCount of non-missing values in each column:\")\n",
    "print(df.count())\n",
    "\n",
    "# Display the missing values count for each column\n",
    "print(\"\\nMissing values in each column:\")\n",
    "print(df.isnull().sum())\n"
   ]
  },
  {
   "cell_type": "markdown",
   "metadata": {},
   "source": [
    "<h5>2.2 Generate basic statistics for numerical columns.</h5>\n"
   ]
  },
  {
   "cell_type": "code",
   "execution_count": 4,
   "metadata": {},
   "outputs": [
    {
     "name": "stdout",
     "output_type": "stream",
     "text": [
      "Basic Statistics for Numerical Columns:\n",
      "         ResponseId      CompTotal       WorkExp  JobSatPoints_1  \\\n",
      "count  65437.000000   3.374000e+04  29658.000000    29324.000000   \n",
      "mean   32719.000000  2.963841e+145     11.466957       18.581094   \n",
      "std    18890.179119  5.444117e+147      9.168709       25.966221   \n",
      "min        1.000000   0.000000e+00      0.000000        0.000000   \n",
      "25%    16360.000000   6.000000e+04      4.000000        0.000000   \n",
      "50%    32719.000000   1.100000e+05      9.000000       10.000000   \n",
      "75%    49078.000000   2.500000e+05     16.000000       22.000000   \n",
      "max    65437.000000  1.000000e+150     50.000000      100.000000   \n",
      "\n",
      "       JobSatPoints_4  JobSatPoints_5  JobSatPoints_6  JobSatPoints_7  \\\n",
      "count    29393.000000    29411.000000    29450.000000     29448.00000   \n",
      "mean         7.522140       10.060857       24.343232        22.96522   \n",
      "std         18.422661       21.833836       27.089360        27.01774   \n",
      "min          0.000000        0.000000        0.000000         0.00000   \n",
      "25%          0.000000        0.000000        0.000000         0.00000   \n",
      "50%          0.000000        0.000000       20.000000        15.00000   \n",
      "75%          5.000000       10.000000       30.000000        30.00000   \n",
      "max        100.000000      100.000000      100.000000       100.00000   \n",
      "\n",
      "       JobSatPoints_8  JobSatPoints_9  JobSatPoints_10  JobSatPoints_11  \\\n",
      "count    29456.000000    29456.000000     29450.000000     29445.000000   \n",
      "mean        20.278165       16.169432        10.955713         9.953948   \n",
      "std         26.108110       24.845032        22.906263        21.775652   \n",
      "min          0.000000        0.000000         0.000000         0.000000   \n",
      "25%          0.000000        0.000000         0.000000         0.000000   \n",
      "50%         10.000000        5.000000         0.000000         0.000000   \n",
      "75%         25.000000       20.000000        10.000000        10.000000   \n",
      "max        100.000000      100.000000       100.000000       100.000000   \n",
      "\n",
      "       ConvertedCompYearly        JobSat  \n",
      "count         2.343500e+04  29126.000000  \n",
      "mean          8.615529e+04      6.935041  \n",
      "std           1.867570e+05      2.088259  \n",
      "min           1.000000e+00      0.000000  \n",
      "25%           3.271200e+04      6.000000  \n",
      "50%           6.500000e+04      7.000000  \n",
      "75%           1.079715e+05      8.000000  \n",
      "max           1.625660e+07     10.000000  \n"
     ]
    }
   ],
   "source": [
    "# Write your code here\n",
    "# Generate basic statistics for numerical columns\n",
    "numerical_summary = df.describe()\n",
    "\n",
    "# Display the statistics\n",
    "print(\"Basic Statistics for Numerical Columns:\")\n",
    "print(numerical_summary)\n"
   ]
  },
  {
   "cell_type": "markdown",
   "metadata": {},
   "source": [
    "### 3. Identifying and Removing Inconsistencies\n"
   ]
  },
  {
   "cell_type": "markdown",
   "metadata": {},
   "source": [
    "<h5>3.1 Identify inconsistent or irrelevant entries in specific columns (e.g., Country).</h5>\n"
   ]
  },
  {
   "cell_type": "code",
   "execution_count": 5,
   "metadata": {},
   "outputs": [
    {
     "name": "stdout",
     "output_type": "stream",
     "text": [
      "Unique values in 'Employment' column: ['Employed, full-time' 'Student, full-time'\n",
      " 'Student, full-time;Not employed, but looking for work'\n",
      " 'Independent contractor, freelancer, or self-employed'\n",
      " 'Not employed, and not looking for work'\n",
      " 'Employed, full-time;Student, part-time'\n",
      " 'Employed, full-time;Independent contractor, freelancer, or self-employed'\n",
      " 'Employed, full-time;Student, full-time' 'Employed, part-time'\n",
      " 'Student, full-time;Employed, part-time'\n",
      " 'Student, part-time;Employed, part-time' 'I prefer not to say'\n",
      " 'Not employed, but looking for work' 'Student, part-time'\n",
      " 'Employed, full-time;Student, full-time;Independent contractor, freelancer, or self-employed;Employed, part-time'\n",
      " 'Employed, full-time;Independent contractor, freelancer, or self-employed;Student, part-time'\n",
      " 'Independent contractor, freelancer, or self-employed;Employed, part-time'\n",
      " 'Independent contractor, freelancer, or self-employed;Student, part-time;Employed, part-time'\n",
      " 'Student, full-time;Not employed, but looking for work;Independent contractor, freelancer, or self-employed'\n",
      " 'Student, full-time;Independent contractor, freelancer, or self-employed'\n",
      " 'Employed, full-time;Employed, part-time'\n",
      " 'Not employed, but looking for work;Independent contractor, freelancer, or self-employed'\n",
      " 'Student, full-time;Not employed, and not looking for work' 'Retired'\n",
      " 'Independent contractor, freelancer, or self-employed;Student, part-time'\n",
      " 'Employed, full-time;Independent contractor, freelancer, or self-employed;Employed, part-time'\n",
      " 'Not employed, but looking for work;Independent contractor, freelancer, or self-employed;Student, part-time'\n",
      " 'Not employed, but looking for work;Student, part-time'\n",
      " 'Not employed, but looking for work;Not employed, and not looking for work'\n",
      " 'Independent contractor, freelancer, or self-employed;Retired'\n",
      " 'Not employed, but looking for work;Student, part-time;Employed, part-time'\n",
      " 'Student, full-time;Not employed, but looking for work;Not employed, and not looking for work'\n",
      " 'Employed, full-time;Not employed, but looking for work'\n",
      " 'Student, full-time;Not employed, and not looking for work;Student, part-time'\n",
      " 'Employed, full-time;Retired'\n",
      " 'Employed, full-time;Independent contractor, freelancer, or self-employed;Student, part-time;Employed, part-time'\n",
      " 'Not employed, but looking for work;Independent contractor, freelancer, or self-employed;Not employed, and not looking for work'\n",
      " 'Not employed, but looking for work;Independent contractor, freelancer, or self-employed;Employed, part-time'\n",
      " 'Not employed, but looking for work;Employed, part-time'\n",
      " 'Employed, full-time;Student, full-time;Employed, part-time'\n",
      " 'Independent contractor, freelancer, or self-employed;Not employed, and not looking for work'\n",
      " 'Not employed, and not looking for work;Student, part-time'\n",
      " 'Student, full-time;Independent contractor, freelancer, or self-employed;Employed, part-time'\n",
      " 'Student, full-time;Student, part-time'\n",
      " 'Student, full-time;Not employed, but looking for work;Student, part-time'\n",
      " 'Independent contractor, freelancer, or self-employed;Not employed, and not looking for work;Retired'\n",
      " 'Employed, full-time;Independent contractor, freelancer, or self-employed;Not employed, and not looking for work'\n",
      " 'Employed, full-time;Student, full-time;Independent contractor, freelancer, or self-employed'\n",
      " 'Employed, full-time;Student, full-time;Student, part-time'\n",
      " 'Not employed, but looking for work;Retired'\n",
      " 'Employed, full-time;Student, full-time;Not employed, but looking for work'\n",
      " 'Not employed, and not looking for work;Retired'\n",
      " 'Not employed, but looking for work;Independent contractor, freelancer, or self-employed;Not employed, and not looking for work;Retired'\n",
      " 'Employed, full-time;Not employed, but looking for work;Employed, part-time'\n",
      " 'Student, full-time;Not employed, but looking for work;Independent contractor, freelancer, or self-employed;Student, part-time;Employed, part-time;Retired'\n",
      " 'Employed, full-time;Independent contractor, freelancer, or self-employed;Not employed, and not looking for work;Employed, part-time'\n",
      " 'Student, full-time;Independent contractor, freelancer, or self-employed;Not employed, and not looking for work'\n",
      " 'Employed, full-time;Student, full-time;Not employed, but looking for work;Independent contractor, freelancer, or self-employed;Not employed, and not looking for work;Student, part-time;Employed, part-time;Retired'\n",
      " 'Employed, full-time;Not employed, but looking for work;Independent contractor, freelancer, or self-employed'\n",
      " 'Independent contractor, freelancer, or self-employed;Not employed, and not looking for work;Student, part-time'\n",
      " 'Student, full-time;Not employed, but looking for work;Retired'\n",
      " 'Student, full-time;Not employed, but looking for work;Independent contractor, freelancer, or self-employed;Student, part-time'\n",
      " 'Student, part-time;Retired'\n",
      " 'Student, full-time;Not employed, but looking for work;Not employed, and not looking for work;Student, part-time'\n",
      " 'Employed, full-time;Student, full-time;Not employed, but looking for work;Independent contractor, freelancer, or self-employed;Student, part-time;Employed, part-time'\n",
      " 'Not employed, but looking for work;Independent contractor, freelancer, or self-employed;Retired'\n",
      " 'Employed, full-time;Student, full-time;Student, part-time;Employed, part-time'\n",
      " 'Not employed, but looking for work;Independent contractor, freelancer, or self-employed;Student, part-time;Employed, part-time'\n",
      " 'Student, full-time;Not employed, but looking for work;Employed, part-time'\n",
      " 'Employed, full-time;Independent contractor, freelancer, or self-employed;Not employed, and not looking for work;Student, part-time'\n",
      " 'Independent contractor, freelancer, or self-employed;Student, part-time;Retired'\n",
      " 'Student, full-time;Independent contractor, freelancer, or self-employed;Student, part-time;Employed, part-time'\n",
      " 'Employed, full-time;Independent contractor, freelancer, or self-employed;Student, part-time;Retired'\n",
      " 'Student, full-time;Not employed, but looking for work;Independent contractor, freelancer, or self-employed;Not employed, and not looking for work'\n",
      " 'Student, full-time;Not employed, but looking for work;Independent contractor, freelancer, or self-employed;Employed, part-time'\n",
      " 'Student, full-time;Independent contractor, freelancer, or self-employed;Student, part-time'\n",
      " 'Independent contractor, freelancer, or self-employed;Employed, part-time;Retired'\n",
      " 'Employed, full-time;Not employed, and not looking for work'\n",
      " 'Employed, full-time;Independent contractor, freelancer, or self-employed;Retired'\n",
      " 'Student, full-time;Student, part-time;Employed, part-time'\n",
      " 'Employed, part-time;Retired'\n",
      " 'Employed, full-time;Independent contractor, freelancer, or self-employed;Employed, part-time;Retired'\n",
      " 'Employed, full-time;Student, part-time;Employed, part-time'\n",
      " 'Employed, full-time;Student, full-time;Independent contractor, freelancer, or self-employed;Student, part-time;Employed, part-time;Retired'\n",
      " 'Student, full-time;Student, part-time;Retired'\n",
      " 'Student, full-time;Not employed, and not looking for work;Employed, part-time'\n",
      " 'Employed, full-time;Not employed, but looking for work;Independent contractor, freelancer, or self-employed;Employed, part-time'\n",
      " 'Not employed, but looking for work;Not employed, and not looking for work;Student, part-time;Employed, part-time'\n",
      " 'Independent contractor, freelancer, or self-employed;Not employed, and not looking for work;Employed, part-time'\n",
      " 'Employed, full-time;Not employed, but looking for work;Independent contractor, freelancer, or self-employed;Not employed, and not looking for work;Employed, part-time'\n",
      " 'Employed, full-time;Student, full-time;Not employed, but looking for work;Independent contractor, freelancer, or self-employed;Not employed, and not looking for work;Student, part-time;Employed, part-time'\n",
      " 'Employed, full-time;Student, full-time;Independent contractor, freelancer, or self-employed;Student, part-time;Employed, part-time'\n",
      " 'Not employed, and not looking for work;Employed, part-time'\n",
      " 'Employed, full-time;Student, full-time;Not employed, but looking for work;Student, part-time'\n",
      " 'Employed, full-time;Student, full-time;Not employed, but looking for work;Independent contractor, freelancer, or self-employed;Employed, part-time'\n",
      " 'Employed, full-time;Not employed, but looking for work;Not employed, and not looking for work;Employed, part-time'\n",
      " 'Student, full-time;Independent contractor, freelancer, or self-employed;Employed, part-time;Retired'\n",
      " 'Not employed, but looking for work;Student, part-time;Retired'\n",
      " 'Independent contractor, freelancer, or self-employed;Not employed, and not looking for work;Student, part-time;Retired'\n",
      " 'Employed, full-time;Student, full-time;Not employed, but looking for work;Independent contractor, freelancer, or self-employed'\n",
      " 'Not employed, but looking for work;Not employed, and not looking for work;Student, part-time'\n",
      " 'Employed, full-time;Student, full-time;Independent contractor, freelancer, or self-employed;Student, part-time;Retired'\n",
      " 'Employed, full-time;Student, full-time;Not employed, but looking for work;Student, part-time;Employed, part-time'\n",
      " 'Student, full-time;Not employed, but looking for work;Independent contractor, freelancer, or self-employed;Not employed, and not looking for work;Student, part-time'\n",
      " 'Employed, full-time;Student, full-time;Not employed, but looking for work;Independent contractor, freelancer, or self-employed;Student, part-time;Employed, part-time;Retired'\n",
      " 'Not employed, but looking for work;Independent contractor, freelancer, or self-employed;Not employed, and not looking for work;Employed, part-time'\n",
      " 'Student, full-time;Retired'\n",
      " 'Employed, full-time;Not employed, but looking for work;Student, part-time'\n",
      " 'Not employed, and not looking for work;Student, part-time;Employed, part-time'\n",
      " 'Not employed, but looking for work;Independent contractor, freelancer, or self-employed;Student, part-time;Retired']\n",
      "Unique values in 'Country' column: ['United States of America'\n",
      " 'United Kingdom of Great Britain and Northern Ireland' 'Canada' 'Norway'\n",
      " 'Uzbekistan' 'Serbia' 'Poland' 'Philippines' 'Bulgaria' 'Switzerland'\n",
      " 'India' 'Germany' 'Ireland' 'Italy' 'Ukraine' 'Australia' 'Brazil'\n",
      " 'Japan' 'Austria' 'Iran, Islamic Republic of...' 'France' 'Saudi Arabia'\n",
      " 'Romania' 'Turkey' 'Nepal' 'Algeria' 'Sweden' 'Netherlands' 'Croatia'\n",
      " 'Pakistan' 'Czech Republic' 'Republic of North Macedonia' 'Finland'\n",
      " 'Slovakia' 'Russian Federation' 'Greece' 'Israel' 'Belgium' 'Mexico'\n",
      " 'United Republic of Tanzania' 'Hungary' 'Argentina' 'Portugal'\n",
      " 'Sri Lanka' 'Latvia' 'China' 'Singapore' 'Lebanon' 'Spain' 'South Africa'\n",
      " 'Lithuania' 'Viet Nam' 'Dominican Republic' 'Indonesia' 'Kosovo'\n",
      " 'Morocco' 'Taiwan' 'Georgia' 'San Marino' 'Tunisia' 'Bangladesh'\n",
      " 'Nigeria' 'Liechtenstein' 'Denmark' 'Ecuador' 'Malaysia' 'Albania'\n",
      " 'Azerbaijan' 'Chile' 'Ghana' 'Peru' 'Bolivia' 'Egypt' 'Luxembourg'\n",
      " 'Montenegro' 'Cyprus' 'Paraguay' 'Kazakhstan' 'Slovenia' 'Jordan'\n",
      " 'Venezuela, Bolivarian Republic of...' 'Costa Rica' 'Jamaica' 'Thailand'\n",
      " 'Nicaragua' 'Myanmar' 'Republic of Korea' 'Rwanda'\n",
      " 'Bosnia and Herzegovina' 'Benin' 'El Salvador' 'Zimbabwe' 'Afghanistan'\n",
      " 'Estonia' 'Malta' 'Uruguay' 'Belarus' 'Colombia' 'Republic of Moldova'\n",
      " 'Isle of Man' 'Nomadic' 'New Zealand' 'Palestine' 'Armenia'\n",
      " 'United Arab Emirates' 'Maldives' 'Ethiopia' 'Fiji' 'Guatemala' 'Uganda'\n",
      " 'Turkmenistan' 'Mauritius' 'Kenya' 'Cuba' 'Gabon' 'Bahamas' 'South Korea'\n",
      " 'Iceland' 'Honduras' 'Hong Kong (S.A.R.)'\n",
      " \"Lao People's Democratic Republic\" 'Mongolia' 'Cambodia' 'Madagascar'\n",
      " 'Angola' 'Democratic Republic of the Congo' 'Syrian Arab Republic' 'Iraq'\n",
      " 'Namibia' 'Senegal' 'Kyrgyzstan' 'Zambia' 'Swaziland' \"Côte d'Ivoire\"\n",
      " 'Kuwait' 'Tajikistan' 'Burundi' 'Trinidad and Tobago' 'Mauritania'\n",
      " 'Sierra Leone' 'Panama' 'Somalia' 'North Korea' 'Dominica' 'Guyana'\n",
      " 'Togo' 'Oman' 'Barbados' 'Andorra'\n",
      " \"Democratic People's Republic of Korea\" 'Qatar' 'Sudan' 'Cameroon'\n",
      " 'Papua New Guinea' 'Bahrain' 'Yemen' 'Malawi' 'Burkina Faso'\n",
      " 'Congo, Republic of the...' 'Botswana' 'Guinea-Bissau' 'Mozambique'\n",
      " 'Central African Republic' 'Equatorial Guinea' 'Suriname' 'Belize'\n",
      " 'Libyan Arab Jamahiriya' 'Cape Verde' 'Brunei Darussalam' 'Bhutan'\n",
      " 'Guinea' 'Niger' 'Antigua and Barbuda' 'Mali' 'Samoa' 'Lesotho'\n",
      " 'Saint Kitts and Nevis' 'Monaco' 'Micronesia, Federated States of...'\n",
      " 'Haiti' nan 'Nauru' 'Liberia' 'Chad' 'Djibouti' 'Solomon Islands']\n",
      "Inconsistent entries in 'Employment' column:\n",
      "Empty DataFrame\n",
      "Columns: [ResponseId, MainBranch, Age, Employment, RemoteWork, Check, CodingActivities, EdLevel, LearnCode, LearnCodeOnline, TechDoc, YearsCode, YearsCodePro, DevType, OrgSize, PurchaseInfluence, BuyNewTool, BuildvsBuy, TechEndorse, Country, Currency, CompTotal, LanguageHaveWorkedWith, LanguageWantToWorkWith, LanguageAdmired, DatabaseHaveWorkedWith, DatabaseWantToWorkWith, DatabaseAdmired, PlatformHaveWorkedWith, PlatformWantToWorkWith, PlatformAdmired, WebframeHaveWorkedWith, WebframeWantToWorkWith, WebframeAdmired, EmbeddedHaveWorkedWith, EmbeddedWantToWorkWith, EmbeddedAdmired, MiscTechHaveWorkedWith, MiscTechWantToWorkWith, MiscTechAdmired, ToolsTechHaveWorkedWith, ToolsTechWantToWorkWith, ToolsTechAdmired, NEWCollabToolsHaveWorkedWith, NEWCollabToolsWantToWorkWith, NEWCollabToolsAdmired, OpSysPersonal use, OpSysProfessional use, OfficeStackAsyncHaveWorkedWith, OfficeStackAsyncWantToWorkWith, OfficeStackAsyncAdmired, OfficeStackSyncHaveWorkedWith, OfficeStackSyncWantToWorkWith, OfficeStackSyncAdmired, AISearchDevHaveWorkedWith, AISearchDevWantToWorkWith, AISearchDevAdmired, NEWSOSites, SOVisitFreq, SOAccount, SOPartFreq, SOHow, SOComm, AISelect, AISent, AIBen, AIAcc, AIComplex, AIToolCurrently Using, AIToolInterested in Using, AIToolNot interested in Using, AINextMuch more integrated, AINextNo change, AINextMore integrated, AINextLess integrated, AINextMuch less integrated, AIThreat, AIEthics, AIChallenges, TBranch, ICorPM, WorkExp, Knowledge_1, Knowledge_2, Knowledge_3, Knowledge_4, Knowledge_5, Knowledge_6, Knowledge_7, Knowledge_8, Knowledge_9, Frequency_1, Frequency_2, Frequency_3, TimeSearching, TimeAnswering, Frustration, ProfessionalTech, ProfessionalCloud, ProfessionalQuestion, ...]\n",
      "Index: []\n",
      "\n",
      "[0 rows x 114 columns]\n",
      "Inconsistent entries in 'Country' column:\n",
      "       ResponseId                                         MainBranch  \\\n",
      "43448       43449  I am not primarily a developer, but I write co...   \n",
      "43454       43455                     I am a developer by profession   \n",
      "43459       43460  I am not primarily a developer, but I write co...   \n",
      "43460       43461                     I am a developer by profession   \n",
      "43461       43462                     I am a developer by profession   \n",
      "...           ...                                                ...   \n",
      "65430       65431                              I am learning to code   \n",
      "65432       65433                     I am a developer by profession   \n",
      "65433       65434                     I am a developer by profession   \n",
      "65434       65435                     I am a developer by profession   \n",
      "65436       65437                        I code primarily as a hobby   \n",
      "\n",
      "                   Age                                         Employment  \\\n",
      "43448  35-44 years old  Independent contractor, freelancer, or self-em...   \n",
      "43454  25-34 years old                                Employed, full-time   \n",
      "43459  25-34 years old             Not employed, and not looking for work   \n",
      "43460  35-44 years old                                Employed, full-time   \n",
      "43461  25-34 years old                                Employed, full-time   \n",
      "...                ...                                                ...   \n",
      "65430  18-24 years old  Not employed, but looking for work;Employed, p...   \n",
      "65432  18-24 years old                                Employed, full-time   \n",
      "65433  25-34 years old                                Employed, full-time   \n",
      "65434  25-34 years old                                Employed, full-time   \n",
      "65436  18-24 years old                                 Student, full-time   \n",
      "\n",
      "                                 RemoteWork   Check  \\\n",
      "43448                                Remote  Apples   \n",
      "43454  Hybrid (some remote, some in-person)  Apples   \n",
      "43459                                   NaN  Apples   \n",
      "43460                                Remote  Apples   \n",
      "43461  Hybrid (some remote, some in-person)  Apples   \n",
      "...                                     ...     ...   \n",
      "65430                             In-person  Apples   \n",
      "65432                                Remote  Apples   \n",
      "65433                                Remote  Apples   \n",
      "65434                             In-person  Apples   \n",
      "65436                                   NaN  Apples   \n",
      "\n",
      "                                        CodingActivities  \\\n",
      "43448  Contribute to open-source projects;Bootstrappi...   \n",
      "43454  Professional development or self-paced learnin...   \n",
      "43459                                                NaN   \n",
      "43460                       I don’t code outside of work   \n",
      "43461           Hobby;Contribute to open-source projects   \n",
      "...                                                  ...   \n",
      "65430  Hobby;Professional development or self-paced l...   \n",
      "65432                      Hobby;School or academic work   \n",
      "65433           Hobby;Contribute to open-source projects   \n",
      "65434                                              Hobby   \n",
      "65436                                                NaN   \n",
      "\n",
      "                                               EdLevel  \\\n",
      "43448                                              NaN   \n",
      "43454                                              NaN   \n",
      "43459                                              NaN   \n",
      "43460  Master’s degree (M.A., M.S., M.Eng., MBA, etc.)   \n",
      "43461  Master’s degree (M.A., M.S., M.Eng., MBA, etc.)   \n",
      "...                                                ...   \n",
      "65430                                              NaN   \n",
      "65432     Bachelor’s degree (B.A., B.S., B.Eng., etc.)   \n",
      "65433                                              NaN   \n",
      "65434     Bachelor’s degree (B.A., B.S., B.Eng., etc.)   \n",
      "65436                                              NaN   \n",
      "\n",
      "                                               LearnCode  \\\n",
      "43448                                                NaN   \n",
      "43454                                                NaN   \n",
      "43459                                                NaN   \n",
      "43460  On the job training;Other online resources (e....   \n",
      "43461  On the job training;Other online resources (e....   \n",
      "...                                                  ...   \n",
      "65430                                                NaN   \n",
      "65432  On the job training;School (i.e., University, ...   \n",
      "65433                                                NaN   \n",
      "65434  Other online resources (e.g., videos, blogs, f...   \n",
      "65436                                                NaN   \n",
      "\n",
      "                                         LearnCodeOnline  ... JobSatPoints_6  \\\n",
      "43448                                                NaN  ...            NaN   \n",
      "43454                                                NaN  ...            NaN   \n",
      "43459                                                NaN  ...            NaN   \n",
      "43460  Blogs;How-to videos;Interactive tutorial;Video...  ...            NaN   \n",
      "43461  Technical documentation;Blogs;Written Tutorial...  ...            NaN   \n",
      "...                                                  ...  ...            ...   \n",
      "65430                                                NaN  ...            NaN   \n",
      "65432                                                NaN  ...            NaN   \n",
      "65433                                                NaN  ...            NaN   \n",
      "65434  Technical documentation;Stack Overflow;Social ...  ...            NaN   \n",
      "65436                                                NaN  ...            NaN   \n",
      "\n",
      "      JobSatPoints_7 JobSatPoints_8 JobSatPoints_9 JobSatPoints_10  \\\n",
      "43448            NaN            NaN            NaN             NaN   \n",
      "43454            NaN            NaN            NaN             NaN   \n",
      "43459            NaN            NaN            NaN             NaN   \n",
      "43460            NaN            NaN            NaN             NaN   \n",
      "43461            NaN            NaN            NaN             NaN   \n",
      "...              ...            ...            ...             ...   \n",
      "65430            NaN            NaN            NaN             NaN   \n",
      "65432            NaN            NaN            NaN             NaN   \n",
      "65433            NaN            NaN            NaN             NaN   \n",
      "65434            NaN            NaN            NaN             NaN   \n",
      "65436            NaN            NaN            NaN             NaN   \n",
      "\n",
      "      JobSatPoints_11 SurveyLength SurveyEase ConvertedCompYearly JobSat  \n",
      "43448             NaN          NaN        NaN                 NaN    NaN  \n",
      "43454             NaN          NaN        NaN                 NaN    NaN  \n",
      "43459             NaN          NaN        NaN                 NaN    NaN  \n",
      "43460             NaN          NaN        NaN                 NaN    NaN  \n",
      "43461             NaN          NaN        NaN                 NaN    NaN  \n",
      "...               ...          ...        ...                 ...    ...  \n",
      "65430             NaN          NaN        NaN                 NaN    NaN  \n",
      "65432             NaN          NaN        NaN                 NaN    NaN  \n",
      "65433             NaN          NaN        NaN                 NaN    NaN  \n",
      "65434             NaN          NaN        NaN                 NaN    NaN  \n",
      "65436             NaN          NaN        NaN                 NaN    NaN  \n",
      "\n",
      "[6507 rows x 114 columns]\n"
     ]
    }
   ],
   "source": [
    "# Write your code here\n",
    "# Check for inconsistent or irrelevant entries in specific columns, such as 'Employment' and 'Country'\n",
    "\n",
    "# For the 'Employment' column, display unique values to check for inconsistencies\n",
    "employment_unique_values = df[\"Employment\"].unique()\n",
    "print(f\"Unique values in 'Employment' column: {employment_unique_values}\")\n",
    "\n",
    "# For the 'Country' column, display unique values to check for inconsistencies\n",
    "country_unique_values = df[\"Country\"].unique()\n",
    "print(f\"Unique values in 'Country' column: {country_unique_values}\")\n",
    "\n",
    "# Check for any non-standard entries, such as blank values or unexpected categories\n",
    "employment_inconsistent = df[df[\"Employment\"].isnull() | (df[\"Employment\"] == \"\")]\n",
    "print(f\"Inconsistent entries in 'Employment' column:\\n{employment_inconsistent}\")\n",
    "\n",
    "country_inconsistent = df[df[\"Country\"].isnull() | (df[\"Country\"] == \"\")]\n",
    "print(f\"Inconsistent entries in 'Country' column:\\n{country_inconsistent}\")\n"
   ]
  },
  {
   "cell_type": "markdown",
   "metadata": {},
   "source": [
    "<h5>3.2 Standardize entries in columns like Country or EdLevel by mapping inconsistent values to a consistent format.</h5>\n"
   ]
  },
  {
   "cell_type": "code",
   "execution_count": null,
   "metadata": {},
   "outputs": [],
   "source": [
    "## Write your code here"
   ]
  },
  {
   "cell_type": "markdown",
   "metadata": {},
   "source": [
    "### 4. Encoding Categorical Variables\n"
   ]
  },
  {
   "cell_type": "markdown",
   "metadata": {},
   "source": [
    "<h5>4.1 Encode the Employment column using one-hot encoding.</h5>\n"
   ]
  },
  {
   "cell_type": "code",
   "execution_count": null,
   "metadata": {},
   "outputs": [],
   "source": [
    "## Write your code here"
   ]
  },
  {
   "cell_type": "markdown",
   "metadata": {},
   "source": [
    "### 5. Handling Missing Values\n"
   ]
  },
  {
   "cell_type": "markdown",
   "metadata": {},
   "source": [
    "<h5>5.1 Identify columns with the highest number of missing values.</h5>\n"
   ]
  },
  {
   "cell_type": "code",
   "execution_count": 6,
   "metadata": {},
   "outputs": [
    {
     "name": "stdout",
     "output_type": "stream",
     "text": [
      "   ResponseId                      MainBranch                 Age RemoteWork  \\\n",
      "0           1  I am a developer by profession  Under 18 years old     Remote   \n",
      "1           2  I am a developer by profession     35-44 years old     Remote   \n",
      "2           3  I am a developer by profession     45-54 years old     Remote   \n",
      "3           4           I am learning to code     18-24 years old        NaN   \n",
      "4           5  I am a developer by profession     18-24 years old        NaN   \n",
      "\n",
      "    Check                                   CodingActivities  \\\n",
      "0  Apples                                              Hobby   \n",
      "1  Apples  Hobby;Contribute to open-source projects;Other...   \n",
      "2  Apples  Hobby;Contribute to open-source projects;Other...   \n",
      "3  Apples                                                NaN   \n",
      "4  Apples                                                NaN   \n",
      "\n",
      "                                             EdLevel  \\\n",
      "0                          Primary/elementary school   \n",
      "1       Bachelor’s degree (B.A., B.S., B.Eng., etc.)   \n",
      "2    Master’s degree (M.A., M.S., M.Eng., MBA, etc.)   \n",
      "3  Some college/university study without earning ...   \n",
      "4  Secondary school (e.g. American high school, G...   \n",
      "\n",
      "                                           LearnCode  \\\n",
      "0                             Books / Physical media   \n",
      "1  Books / Physical media;Colleague;On the job tr...   \n",
      "2  Books / Physical media;Colleague;On the job tr...   \n",
      "3  Other online resources (e.g., videos, blogs, f...   \n",
      "4  Other online resources (e.g., videos, blogs, f...   \n",
      "\n",
      "                                     LearnCodeOnline  \\\n",
      "0                                                NaN   \n",
      "1  Technical documentation;Blogs;Books;Written Tu...   \n",
      "2  Technical documentation;Blogs;Books;Written Tu...   \n",
      "3  Stack Overflow;How-to videos;Interactive tutorial   \n",
      "4  Technical documentation;Blogs;Written Tutorial...   \n",
      "\n",
      "                                             TechDoc  ...  \\\n",
      "0                                                NaN  ...   \n",
      "1  API document(s) and/or SDK document(s);User gu...  ...   \n",
      "2  API document(s) and/or SDK document(s);User gu...  ...   \n",
      "3                                                NaN  ...   \n",
      "4  API document(s) and/or SDK document(s);User gu...  ...   \n",
      "\n",
      "  Employment_Student, full-time;Not employed, but looking for work;Not employed, and not looking for work;Student, part-time  \\\n",
      "0                                              False                                                                           \n",
      "1                                              False                                                                           \n",
      "2                                              False                                                                           \n",
      "3                                              False                                                                           \n",
      "4                                              False                                                                           \n",
      "\n",
      "  Employment_Student, full-time;Not employed, but looking for work;Retired  \\\n",
      "0                                              False                         \n",
      "1                                              False                         \n",
      "2                                              False                         \n",
      "3                                              False                         \n",
      "4                                              False                         \n",
      "\n",
      "  Employment_Student, full-time;Not employed, but looking for work;Student, part-time  \\\n",
      "0                                              False                                    \n",
      "1                                              False                                    \n",
      "2                                              False                                    \n",
      "3                                              False                                    \n",
      "4                                              False                                    \n",
      "\n",
      "  Employment_Student, full-time;Retired  \\\n",
      "0                                 False   \n",
      "1                                 False   \n",
      "2                                 False   \n",
      "3                                 False   \n",
      "4                                 False   \n",
      "\n",
      "  Employment_Student, full-time;Student, part-time  \\\n",
      "0                                            False   \n",
      "1                                            False   \n",
      "2                                            False   \n",
      "3                                            False   \n",
      "4                                            False   \n",
      "\n",
      "  Employment_Student, full-time;Student, part-time;Employed, part-time  \\\n",
      "0                                              False                     \n",
      "1                                              False                     \n",
      "2                                              False                     \n",
      "3                                              False                     \n",
      "4                                              False                     \n",
      "\n",
      "  Employment_Student, full-time;Student, part-time;Retired  \\\n",
      "0                                              False         \n",
      "1                                              False         \n",
      "2                                              False         \n",
      "3                                              False         \n",
      "4                                              False         \n",
      "\n",
      "  Employment_Student, part-time  \\\n",
      "0                         False   \n",
      "1                         False   \n",
      "2                         False   \n",
      "3                         False   \n",
      "4                         False   \n",
      "\n",
      "  Employment_Student, part-time;Employed, part-time  \\\n",
      "0                                             False   \n",
      "1                                             False   \n",
      "2                                             False   \n",
      "3                                             False   \n",
      "4                                             False   \n",
      "\n",
      "  Employment_Student, part-time;Retired  \n",
      "0                                 False  \n",
      "1                                 False  \n",
      "2                                 False  \n",
      "3                                 False  \n",
      "4                                 False  \n",
      "\n",
      "[5 rows x 222 columns]\n"
     ]
    }
   ],
   "source": [
    "## Write your code here\n",
    "# Apply one-hot encoding to the 'Employment' column\n",
    "df_encoded = pd.get_dummies(df, columns=[\"Employment\"], drop_first=True)\n",
    "\n",
    "# Display the first few rows of the dataframe with encoded columns\n",
    "print(df_encoded.head())\n"
   ]
  },
  {
   "cell_type": "markdown",
   "metadata": {},
   "source": [
    "<h5>5.2 Impute missing values in numerical columns (e.g., `ConvertedCompYearly`) with the mean or median.</h5>\n"
   ]
  },
  {
   "cell_type": "code",
   "execution_count": 7,
   "metadata": {},
   "outputs": [
    {
     "name": "stdout",
     "output_type": "stream",
     "text": [
      "Number of missing values in 'ConvertedCompYearly' after imputation: 0\n"
     ]
    },
    {
     "name": "stderr",
     "output_type": "stream",
     "text": [
      "/tmp/ipykernel_538/636753004.py:3: FutureWarning: A value is trying to be set on a copy of a DataFrame or Series through chained assignment using an inplace method.\n",
      "The behavior will change in pandas 3.0. This inplace method will never work because the intermediate object on which we are setting values always behaves as a copy.\n",
      "\n",
      "For example, when doing 'df[col].method(value, inplace=True)', try using 'df.method({col: value}, inplace=True)' or df[col] = df[col].method(value) instead, to perform the operation inplace on the original object.\n",
      "\n",
      "\n",
      "  df[\"ConvertedCompYearly\"].fillna(df[\"ConvertedCompYearly\"].mean(), inplace=True)\n"
     ]
    }
   ],
   "source": [
    "## Write your code here\n",
    "# Impute missing values in the 'ConvertedCompYearly' column with the mean\n",
    "df[\"ConvertedCompYearly\"].fillna(df[\"ConvertedCompYearly\"].mean(), inplace=True)\n",
    "\n",
    "# Alternatively, you can impute with the median if preferred\n",
    "# df[\"ConvertedCompYearly\"].fillna(df[\"ConvertedCompYearly\"].median(), inplace=True)\n",
    "\n",
    "# Verify that missing values are filled\n",
    "missing_after_imputation = df[\"ConvertedCompYearly\"].isnull().sum()\n",
    "print(f\"Number of missing values in 'ConvertedCompYearly' after imputation: {missing_after_imputation}\")\n"
   ]
  },
  {
   "cell_type": "markdown",
   "metadata": {},
   "source": [
    "<h5>5.3 Impute missing values in categorical columns (e.g., `RemoteWork`) with the most frequent value.</h5>\n"
   ]
  },
  {
   "cell_type": "code",
   "execution_count": 8,
   "metadata": {},
   "outputs": [
    {
     "name": "stdout",
     "output_type": "stream",
     "text": [
      "Number of missing values in 'RemoteWork' after imputation: 0\n"
     ]
    },
    {
     "name": "stderr",
     "output_type": "stream",
     "text": [
      "/tmp/ipykernel_538/1261300799.py:3: FutureWarning: A value is trying to be set on a copy of a DataFrame or Series through chained assignment using an inplace method.\n",
      "The behavior will change in pandas 3.0. This inplace method will never work because the intermediate object on which we are setting values always behaves as a copy.\n",
      "\n",
      "For example, when doing 'df[col].method(value, inplace=True)', try using 'df.method({col: value}, inplace=True)' or df[col] = df[col].method(value) instead, to perform the operation inplace on the original object.\n",
      "\n",
      "\n",
      "  df[\"RemoteWork\"].fillna(df[\"RemoteWork\"].mode()[0], inplace=True)\n"
     ]
    }
   ],
   "source": [
    "## Write your code here\n",
    "# Impute missing values in the 'RemoteWork' column with the most frequent value (mode)\n",
    "df[\"RemoteWork\"].fillna(df[\"RemoteWork\"].mode()[0], inplace=True)\n",
    "\n",
    "# Verify that missing values are filled\n",
    "missing_after_imputation = df[\"RemoteWork\"].isnull().sum()\n",
    "print(f\"Number of missing values in 'RemoteWork' after imputation: {missing_after_imputation}\")\n"
   ]
  },
  {
   "cell_type": "markdown",
   "metadata": {},
   "source": [
    "### 6. Feature Scaling and Transformation\n"
   ]
  },
  {
   "cell_type": "markdown",
   "metadata": {},
   "source": [
    "<h5>6.1 Apply Min-Max Scaling to normalize the `ConvertedCompYearly` column.</h5>\n"
   ]
  },
  {
   "cell_type": "code",
   "execution_count": 16,
   "metadata": {},
   "outputs": [
    {
     "name": "stdout",
     "output_type": "stream",
     "text": [
      "   ConvertedCompYearly  ConvertedCompYearly_MinMax\n",
      "0         86155.287263                      0.0053\n",
      "1         86155.287263                      0.0053\n",
      "2         86155.287263                      0.0053\n",
      "3         86155.287263                      0.0053\n",
      "4         86155.287263                      0.0053\n"
     ]
    }
   ],
   "source": [
    "# Get the minimum and maximum values of the 'ConvertedCompYearly' column\n",
    "min_value = df[\"ConvertedCompYearly\"].min()\n",
    "max_value = df[\"ConvertedCompYearly\"].max()\n",
    "\n",
    "# Apply Min-Max Scaling formula: (x - min) / (max - min)\n",
    "df[\"ConvertedCompYearly_MinMax\"] = (df[\"ConvertedCompYearly\"] - min_value) / (max_value - min_value)\n",
    "\n",
    "# Display the first few rows to check the new column\n",
    "print(df[[\"ConvertedCompYearly\", \"ConvertedCompYearly_MinMax\"]].head())\n"
   ]
  },
  {
   "cell_type": "markdown",
   "metadata": {},
   "source": [
    "<h5>6.2 Log-transform the ConvertedCompYearly column to reduce skewness.</h5>\n"
   ]
  },
  {
   "cell_type": "code",
   "execution_count": 10,
   "metadata": {},
   "outputs": [
    {
     "name": "stdout",
     "output_type": "stream",
     "text": [
      "   ConvertedCompYearly  ConvertedCompYearly_Log\n",
      "0         86155.287263                11.363918\n",
      "1         86155.287263                11.363918\n",
      "2         86155.287263                11.363918\n",
      "3         86155.287263                11.363918\n",
      "4         86155.287263                11.363918\n"
     ]
    }
   ],
   "source": [
    "## Write your code here\n",
    "import numpy as np\n",
    "\n",
    "# Apply a log transformation to the 'ConvertedCompYearly' column\n",
    "df[\"ConvertedCompYearly_Log\"] = np.log1p(df[\"ConvertedCompYearly\"])\n",
    "\n",
    "# Display the first few rows to check the transformed column\n",
    "print(df[[\"ConvertedCompYearly\", \"ConvertedCompYearly_Log\"]].head())\n"
   ]
  },
  {
   "cell_type": "markdown",
   "metadata": {},
   "source": [
    "### 7. Feature Engineering\n"
   ]
  },
  {
   "cell_type": "markdown",
   "metadata": {},
   "source": [
    "<h5>7.1 Create a new column `ExperienceLevel` based on the `YearsCodePro` column:</h5>\n"
   ]
  },
  {
   "cell_type": "code",
   "execution_count": 15,
   "metadata": {},
   "outputs": [
    {
     "name": "stdout",
     "output_type": "stream",
     "text": [
      "   YearsCodePro ExperienceLevel\n",
      "0           NaN         Unknown\n",
      "1          17.0          Expert\n",
      "2          27.0          Expert\n",
      "3           NaN         Unknown\n",
      "4           NaN         Unknown\n"
     ]
    }
   ],
   "source": [
    "# First, ensure that all values in 'YearsCodePro' are converted to numeric (handling any non-numeric values as NaN)\n",
    "df[\"YearsCodePro\"] = pd.to_numeric(df[\"YearsCodePro\"], errors='coerce')\n",
    "\n",
    "# Define the function to categorize experience based on 'YearsCodePro'\n",
    "def categorize_experience(years):\n",
    "    if pd.isna(years):\n",
    "        return \"Unknown\"\n",
    "    elif years < 2:\n",
    "        return \"Junior\"\n",
    "    elif 2 <= years < 5:\n",
    "        return \"Mid-level\"\n",
    "    elif 5 <= years < 10:\n",
    "        return \"Senior\"\n",
    "    else:\n",
    "        return \"Expert\"\n",
    "\n",
    "# Apply the function to create the 'ExperienceLevel' column\n",
    "df[\"ExperienceLevel\"] = df[\"YearsCodePro\"].apply(categorize_experience)\n",
    "\n",
    "# Display the first few rows to check the new column\n",
    "print(df[[\"YearsCodePro\", \"ExperienceLevel\"]].head())\n"
   ]
  },
  {
   "cell_type": "markdown",
   "metadata": {},
   "source": [
    "### Summary\n"
   ]
  },
  {
   "cell_type": "markdown",
   "metadata": {},
   "source": [
    "In this lab, you:\n",
    "\n",
    "- Explored the dataset to identify inconsistencies and missing values.\n",
    "\n",
    "- Encoded categorical variables for analysis.\n",
    "\n",
    "- Handled missing values using imputation techniques.\n",
    "\n",
    "- Normalized and transformed numerical data to prepare it for analysis.\n",
    "\n",
    "- Engineered a new feature to enhance data interpretation.\n"
   ]
  },
  {
   "cell_type": "markdown",
   "metadata": {},
   "source": [
    "Copyright © IBM Corporation. All rights reserved.\n"
   ]
  }
 ],
 "metadata": {
  "kernelspec": {
   "display_name": "Python 3 (ipykernel)",
   "language": "python",
   "name": "python3"
  },
  "language_info": {
   "codemirror_mode": {
    "name": "ipython",
    "version": 3
   },
   "file_extension": ".py",
   "mimetype": "text/x-python",
   "name": "python",
   "nbconvert_exporter": "python",
   "pygments_lexer": "ipython3",
   "version": "3.12.8"
  },
  "prev_pub_hash": "1e8e234f19fd098e27b0518a87f18de690e1c51f1d3263d5690927d19971251e"
 },
 "nbformat": 4,
 "nbformat_minor": 4
}
